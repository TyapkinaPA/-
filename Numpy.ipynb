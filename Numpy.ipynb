{
  "nbformat": 4,
  "nbformat_minor": 0,
  "metadata": {
    "colab": {
      "provenance": [],
      "authorship_tag": "ABX9TyPz14EBO6lU15/KauSiQ/j0",
      "include_colab_link": true
    },
    "kernelspec": {
      "name": "python3",
      "display_name": "Python 3"
    },
    "language_info": {
      "name": "python"
    }
  },
  "cells": [
    {
      "cell_type": "markdown",
      "metadata": {
        "id": "view-in-github",
        "colab_type": "text"
      },
      "source": [
        "<a href=\"https://colab.research.google.com/github/TyapkinaPA/-/blob/main/Numpy.ipynb\" target=\"_parent\"><img src=\"https://colab.research.google.com/assets/colab-badge.svg\" alt=\"Open In Colab\"/></a>"
      ]
    },
    {
      "cell_type": "markdown",
      "source": [
        "1. Импортировать numpy и написать версию\n",
        "\n",
        "numpy - библиотека с открытым исходным кодом для языка программирования Python.\n",
        "\n"
      ],
      "metadata": {
        "id": "5tOo1PEq0-Qr"
      }
    },
    {
      "cell_type": "code",
      "execution_count": null,
      "metadata": {
        "id": "Rcoj0_X70U-m",
        "colab": {
          "base_uri": "https://localhost:8080/"
        },
        "outputId": "ffd1fb5f-070c-4b25-a02b-1bfada228cdd"
      },
      "outputs": [
        {
          "output_type": "stream",
          "name": "stdout",
          "text": [
            "1.23.5\n"
          ]
        }
      ],
      "source": [
        "import numpy as np\n",
        "#Версия numpy\n",
        "print(np.__version__)"
      ]
    },
    {
      "cell_type": "markdown",
      "source": [
        "2. Создать нулевой вектор размера 10"
      ],
      "metadata": {
        "id": "64nSURb61Eiu"
      }
    },
    {
      "cell_type": "code",
      "source": [
        "vektor_0 = np.zeros(10)\n",
        "print(vektor_0)"
      ],
      "metadata": {
        "colab": {
          "base_uri": "https://localhost:8080/"
        },
        "id": "OZa0LTpP8oGC",
        "outputId": "623e7071-a629-4f62-dda0-5bb105b674a9"
      },
      "execution_count": null,
      "outputs": [
        {
          "output_type": "stream",
          "name": "stdout",
          "text": [
            "[0. 0. 0. 0. 0. 0. 0. 0. 0. 0.]\n"
          ]
        }
      ]
    },
    {
      "cell_type": "markdown",
      "source": [
        "3. Создать вектор заполненный 7-ами размера 7"
      ],
      "metadata": {
        "id": "au_JWw5-1GWW"
      }
    },
    {
      "cell_type": "code",
      "source": [
        "vektor_7 = np.full(7, 7)\n",
        "print(vektor_7)"
      ],
      "metadata": {
        "colab": {
          "base_uri": "https://localhost:8080/"
        },
        "id": "GM3WDQ0-9YVd",
        "outputId": "b51a4e23-295c-44f4-96a7-7f8874158fac"
      },
      "execution_count": null,
      "outputs": [
        {
          "output_type": "stream",
          "name": "stdout",
          "text": [
            "[7 7 7 7 7 7 7]\n"
          ]
        }
      ]
    },
    {
      "cell_type": "markdown",
      "source": [
        "4. Создать вектор заполненный четными числами от 10 до 100"
      ],
      "metadata": {
        "id": "0t9BOVWq1K_1"
      }
    },
    {
      "cell_type": "code",
      "source": [
        "vector_chet = np.arange(10, 101, 2)\n",
        "print(vector_chet)"
      ],
      "metadata": {
        "colab": {
          "base_uri": "https://localhost:8080/"
        },
        "id": "XeYOBDsE_YPf",
        "outputId": "9dc59c5d-1889-41ac-bdea-95ce2a33afaa"
      },
      "execution_count": null,
      "outputs": [
        {
          "output_type": "stream",
          "name": "stdout",
          "text": [
            "[ 10  12  14  16  18  20  22  24  26  28  30  32  34  36  38  40  42  44\n",
            "  46  48  50  52  54  56  58  60  62  64  66  68  70  72  74  76  78  80\n",
            "  82  84  86  88  90  92  94  96  98 100]\n"
          ]
        }
      ]
    },
    {
      "cell_type": "markdown",
      "source": [
        "5. Создать массив случайных чисел и развернуть его задом наперёд"
      ],
      "metadata": {
        "id": "HPGwqcFW1Pim"
      }
    },
    {
      "cell_type": "code",
      "source": [
        "random_array = np.random.randn(5)\n",
        "reversed_array = np.flip(random_array)\n",
        "print(random_array)\n",
        "print(reversed_array)"
      ],
      "metadata": {
        "colab": {
          "base_uri": "https://localhost:8080/"
        },
        "id": "HQigc12HAmV9",
        "outputId": "9309f7fd-af87-4076-d700-581dc9e1b294"
      },
      "execution_count": null,
      "outputs": [
        {
          "output_type": "stream",
          "name": "stdout",
          "text": [
            "[-1.47205915  0.16896058  2.42628106 -1.37817245 -0.90944058]\n",
            "[-0.90944058 -1.37817245  2.42628106  0.16896058 -1.47205915]\n"
          ]
        }
      ]
    },
    {
      "cell_type": "markdown",
      "source": [
        "6. Создать двумерную матрицу размера 3 на 3, заполненную числами от 0 до 9"
      ],
      "metadata": {
        "id": "NZ7-Vcz91Sqn"
      }
    },
    {
      "cell_type": "code",
      "source": [
        "matr = np.arange(9).reshape(3, 3)\n",
        "print(matr)"
      ],
      "metadata": {
        "colab": {
          "base_uri": "https://localhost:8080/"
        },
        "id": "K6wKenc-BvWI",
        "outputId": "c72ff192-6694-4799-817c-91d1c776eac3"
      },
      "execution_count": null,
      "outputs": [
        {
          "output_type": "stream",
          "name": "stdout",
          "text": [
            "[[0 1 2]\n",
            " [3 4 5]\n",
            " [6 7 8]]\n"
          ]
        }
      ]
    },
    {
      "cell_type": "markdown",
      "source": [
        "7. Создать матрицу размера 4 на 4 с единицами на диагонали смещеной на один наверх."
      ],
      "metadata": {
        "id": "0SXZo3kz1Ve-"
      }
    },
    {
      "cell_type": "code",
      "source": [
        "diagonal_matr = np.eye(4, k=-1)\n",
        "print(diagonal_matr)"
      ],
      "metadata": {
        "colab": {
          "base_uri": "https://localhost:8080/"
        },
        "id": "WO0JuvTTB4bZ",
        "outputId": "f5a51570-1fed-4c3b-d13a-04c890ea3c01"
      },
      "execution_count": null,
      "outputs": [
        {
          "output_type": "stream",
          "name": "stdout",
          "text": [
            "[[0. 0. 0. 0.]\n",
            " [1. 0. 0. 0.]\n",
            " [0. 1. 0. 0.]\n",
            " [0. 0. 1. 0.]]\n"
          ]
        }
      ]
    },
    {
      "cell_type": "markdown",
      "source": [
        "8. Создать матрицу с числами в диапазоне от 1 до 4 по диагонали. В других ячейках матрицы должны быть семерки."
      ],
      "metadata": {
        "id": "WrhrbbSm1Z8Y"
      }
    },
    {
      "cell_type": "code",
      "source": [
        "custom_matr = np.diag([1, 2, 3, 4])\n",
        "custom_matr[custom_matr == 0] = 7\n",
        "print(custom_matr)"
      ],
      "metadata": {
        "colab": {
          "base_uri": "https://localhost:8080/"
        },
        "id": "jXfYWHPLCD4J",
        "outputId": "8a65427f-7fe8-46ff-a807-7ec7d9d63bb6"
      },
      "execution_count": null,
      "outputs": [
        {
          "output_type": "stream",
          "name": "stdout",
          "text": [
            "[[1 7 7 7]\n",
            " [7 2 7 7]\n",
            " [7 7 3 7]\n",
            " [7 7 7 4]]\n"
          ]
        }
      ]
    },
    {
      "cell_type": "markdown",
      "source": [
        "9. Создать матрицу размера 5 на 5 заполненную чилами от 0 до 4 в строках."
      ],
      "metadata": {
        "id": "ddllv8hh1djx"
      }
    },
    {
      "cell_type": "code",
      "source": [
        "row_matr = np.tile(np.arange(5), (5, 1))\n",
        "print(row_matr)"
      ],
      "metadata": {
        "colab": {
          "base_uri": "https://localhost:8080/"
        },
        "id": "UJjPiERYCOwJ",
        "outputId": "9c13ae89-eb66-4165-9088-a19cea3c684a"
      },
      "execution_count": null,
      "outputs": [
        {
          "output_type": "stream",
          "name": "stdout",
          "text": [
            "[[0 1 2 3 4]\n",
            " [0 1 2 3 4]\n",
            " [0 1 2 3 4]\n",
            " [0 1 2 3 4]\n",
            " [0 1 2 3 4]]\n"
          ]
        }
      ]
    },
    {
      "cell_type": "markdown",
      "source": [
        "10. Создать матрицу случайных чисел размера 10 на 10 и отнять среднее по строкам из каждого элемента строки"
      ],
      "metadata": {
        "id": "2wxWooSw1hFB"
      }
    },
    {
      "cell_type": "code",
      "source": [
        "random_matr = np.random.rand(10, 10)\n",
        "mean_subtracted_matr = random_matr - np.mean(random_matr, axis=1, keepdims=True)\n",
        "print(mean_subtracted_matr)"
      ],
      "metadata": {
        "colab": {
          "base_uri": "https://localhost:8080/"
        },
        "id": "phs68AXdCWGj",
        "outputId": "0e011c46-ca76-47c3-cc6c-b22a8fc5d14e"
      },
      "execution_count": null,
      "outputs": [
        {
          "output_type": "stream",
          "name": "stdout",
          "text": [
            "[[-0.30239623 -0.21398654 -0.061866   -0.23721175  0.46384498 -0.28531859\n",
            "   0.00101393  0.41675357  0.42069649 -0.20152986]\n",
            " [-0.22492911 -0.33670586  0.39949954 -0.24029911 -0.37098559  0.01931732\n",
            "   0.32361922  0.24565612  0.36982929 -0.18500182]\n",
            " [-0.39584304 -0.18715954 -0.20162962  0.39030681  0.21752706  0.28988876\n",
            "  -0.41425704 -0.05910541  0.07571169  0.28456033]\n",
            " [ 0.15929919 -0.34742627 -0.11453575  0.234804   -0.30223465  0.23375391\n",
            "   0.23213726  0.21539369  0.05828597 -0.36947734]\n",
            " [-0.22183891  0.05414464  0.23501655 -0.02253055  0.17371435  0.27792434\n",
            "  -0.15953851 -0.24971206  0.24046919 -0.32764901]\n",
            " [ 0.3171395  -0.12874883 -0.07936055  0.01894838 -0.08390982  0.37785713\n",
            "  -0.11496783 -0.01609083 -0.00127586 -0.28959128]\n",
            " [ 0.29398754  0.39026656  0.01801462  0.05192074 -0.05819258 -0.3754958\n",
            "   0.37950495 -0.49391926 -0.47503694  0.26895017]\n",
            " [ 0.01366598 -0.21993111  0.34173878 -0.04812857  0.42908579  0.230952\n",
            "  -0.32295395 -0.3036922  -0.02842627 -0.09231046]\n",
            " [-0.48441981  0.25724484 -0.03203644  0.27393415  0.21466114 -0.40839596\n",
            "   0.31346518  0.26730282  0.05794387 -0.4596998 ]\n",
            " [-0.02366956 -0.19515989  0.20579311 -0.33851319  0.04798804  0.52676735\n",
            "  -0.21171093  0.37750944 -0.08387065 -0.30513372]]\n"
          ]
        }
      ]
    },
    {
      "cell_type": "markdown",
      "source": [
        "11. Создать матрицу случайных чисел размера 10 на 10 и отнять медиану по столбцам из каждого элемента столбца"
      ],
      "metadata": {
        "id": "fud97tLM1lZ0"
      }
    },
    {
      "cell_type": "code",
      "source": [
        "random_matr = np.random.rand(10, 10)\n",
        "median_subtracted_matr = random_matr - np.median(random_matr, axis=0, keepdims=True)\n",
        "print(median_subtracted_matr)"
      ],
      "metadata": {
        "colab": {
          "base_uri": "https://localhost:8080/"
        },
        "id": "0XtgPs2VChsh",
        "outputId": "ee810862-9eb6-4089-d668-fc8a0dcf260d"
      },
      "execution_count": null,
      "outputs": [
        {
          "output_type": "stream",
          "name": "stdout",
          "text": [
            "[[-0.56313475  0.21395157  0.14598884  0.14740386 -0.25576964  0.24716435\n",
            "   0.36377539  0.17713067 -0.41996817 -0.38453639]\n",
            " [-0.03950302 -0.06935923  0.12189584 -0.32337849 -0.12095823 -0.09874668\n",
            "  -0.26765453  0.20545369  0.12181779 -0.37294087]\n",
            " [-0.55444849 -0.56385323 -0.30336608 -0.03271038 -0.3318396   0.02196182\n",
            "  -0.45895062 -0.22796202 -0.10565218  0.13162819]\n",
            " [-0.15469454 -0.45093627  0.0781767   0.15543638 -0.10901484  0.08127297\n",
            "  -0.27303653 -0.08659805  0.10565218 -0.04013457]\n",
            " [ 0.03950302  0.06935923 -0.50447931 -0.15256257  0.10901484 -0.05215711\n",
            "   0.25513773 -0.18424073 -0.42664417 -0.01637127]\n",
            " [-0.5418495   0.15934343 -0.52984181  0.24076688 -0.37244627 -0.02196182\n",
            "   0.11557392  0.12049166  0.37237291  0.3859398 ]\n",
            " [ 0.04981456  0.14284886 -0.06274891 -0.41167464  0.42938979  0.5421537\n",
            "   0.3535902   0.08659805 -0.3843801   0.39824708]\n",
            " [ 0.07654939 -0.10539463  0.30312404  0.03271038  0.12102419 -0.06809283\n",
            "  -0.11557392 -0.09143834  0.42017591 -0.38142165]\n",
            " [ 0.21355551  0.12255977 -0.50460337 -0.03862126  0.56108477 -0.02865303\n",
            "   0.18940387  0.16461128 -0.30216981  0.01637127]\n",
            " [ 0.2934694  -0.1290215   0.06274891  0.42292168  0.36409111  0.5399599\n",
            "  -0.1429822  -0.41540638  0.47864178  0.51485305]]\n"
          ]
        }
      ]
    },
    {
      "cell_type": "markdown",
      "source": [
        "12. Создать матрицу случайных чисел 5x5. Добавить к ней столбецы максимумов и минимумов по строкам. Получится матрица 5x7."
      ],
      "metadata": {
        "id": "yeAQshHy1o6Q"
      }
    },
    {
      "cell_type": "code",
      "source": [
        "random_matr = np.random.rand(5, 5)\n",
        "max_min_matr = np.hstack((random_matr, np.max(random_matr, axis=1, keepdims=True), np.min(random_matr, axis=1, keepdims=True)))\n",
        "print(max_min_matr)"
      ],
      "metadata": {
        "colab": {
          "base_uri": "https://localhost:8080/"
        },
        "id": "QlSlSvXKCvWG",
        "outputId": "453e4a7c-a049-4de5-df08-5b15af1f63ea"
      },
      "execution_count": null,
      "outputs": [
        {
          "output_type": "stream",
          "name": "stdout",
          "text": [
            "[[0.69376652 0.83276727 0.95045642 0.00233516 0.46431719 0.95045642\n",
            "  0.00233516]\n",
            " [0.85652272 0.05695352 0.5959171  0.82134422 0.85332702 0.85652272\n",
            "  0.05695352]\n",
            " [0.00296518 0.9596992  0.7728406  0.4008448  0.13070354 0.9596992\n",
            "  0.00296518]\n",
            " [0.8387505  0.47083977 0.21469465 0.03091816 0.94307578 0.94307578\n",
            "  0.03091816]\n",
            " [0.41327675 0.34325277 0.23623265 0.46589853 0.90563273 0.90563273\n",
            "  0.23623265]]\n"
          ]
        }
      ]
    },
    {
      "cell_type": "markdown",
      "source": [
        "13. Вектор чисел от 1 до 51 преобразовать в вектор нечетных чисел и в вектор четных чисел, поменять их размерности, чтобы получились две матрица. Найти произведение этих матриц. Найти обратную матрицу эётого произведения."
      ],
      "metadata": {
        "id": "PdFv1GOy1soR"
      }
    },
    {
      "cell_type": "code",
      "source": [
        "vector = np.arange(1, 52)\n",
        "odd_vector = vector[vector % 2 != 0]\n",
        "even_vector = vector[vector % 2 == 0]\n",
        "odd_matr = odd_vector.reshape(8, 3)\n",
        "even_matr = even_vector.reshape(3,8)\n",
        "product_matr = np.dot(odd_matr, even_matr)\n",
        "inverse_matr = np.linalg.inv(product_matr)\n",
        "print(inverse_matr)"
      ],
      "metadata": {
        "id": "dXYpMH1MC7vU"
      },
      "execution_count": null,
      "outputs": []
    },
    {
      "cell_type": "markdown",
      "source": [
        "14. Создать 8x8 матрицу и заполнить её в шахматном порядке нулями и единицами."
      ],
      "metadata": {
        "id": "5k4BQzHC1y8L"
      }
    },
    {
      "cell_type": "code",
      "source": [
        "chessboard_matr = np.zeros((8, 8), dtype=int)\n",
        "chessboard_matr[1::2, ::2] = 1\n",
        "chessboard_matr[::2, 1::2] = 1\n",
        "print(chessboard_matr)"
      ],
      "metadata": {
        "colab": {
          "base_uri": "https://localhost:8080/"
        },
        "id": "-J14oyJ8DRUb",
        "outputId": "93f439d7-4f27-4eb5-c2d3-c786691a026c"
      },
      "execution_count": null,
      "outputs": [
        {
          "output_type": "stream",
          "name": "stdout",
          "text": [
            "[[0 1 0 1 0 1 0 1]\n",
            " [1 0 1 0 1 0 1 0]\n",
            " [0 1 0 1 0 1 0 1]\n",
            " [1 0 1 0 1 0 1 0]\n",
            " [0 1 0 1 0 1 0 1]\n",
            " [1 0 1 0 1 0 1 0]\n",
            " [0 1 0 1 0 1 0 1]\n",
            " [1 0 1 0 1 0 1 0]]\n"
          ]
        }
      ]
    }
  ]
}